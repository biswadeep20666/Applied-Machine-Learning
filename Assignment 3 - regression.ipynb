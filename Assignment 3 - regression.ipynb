{
 "cells": [
  {
   "cell_type": "markdown",
   "metadata": {},
   "source": [
    "# Preprocessing the data\n",
    "\n",
    "In this step we preprocess the data that we have on advertising which show the impact of different media on sales."
   ]
  },
  {
   "cell_type": "code",
   "execution_count": 34,
   "metadata": {},
   "outputs": [],
   "source": [
    "import numpy as np\n",
    "import pandas as pd\n",
    "\n",
    "import math\n",
    "\n",
    "import matplotlib.pyplot as plt\n",
    "\n",
    "from sklearn import linear_model\n",
    "\n",
    "from sklearn.metrics import mean_squared_error\n",
    "\n",
    "df = pd.read_csv(\"Advertising.csv\" )\n",
    "columns = df.columns.tolist()\n",
    "\n",
    "TV = df[\"TV\"].tolist()\n",
    "Radio = df[\"radio\"].tolist()\n",
    "Newspaper = df[\"newspaper\"].tolist()\n",
    "Sales = df[\"sales\"].tolist()\n",
    "\n",
    "columns.remove(\"sales\")\n",
    "columns.remove('Unnamed: 0')"
   ]
  },
  {
   "cell_type": "markdown",
   "metadata": {},
   "source": [
    "# Accessing the accuracy of the models\n",
    "\n",
    "## 1. Residual Standard Error:\n",
    "\n",
    "As defined in the ISLR book we define a function calculating the residual mean squared error of a model.It is to be noted that\n",
    "this measures the lack of fit of the data.So a higher value of this is the worst posible fit.\n",
    "\n",
    "## 2. R-Squared Score:\n",
    "\n",
    "This is another measure that we will use which denotes the linear relationship between x and y.Here higher values denotes better fit."
   ]
  },
  {
   "cell_type": "code",
   "execution_count": 35,
   "metadata": {
    "collapsed": true
   },
   "outputs": [],
   "source": [
    "def RSE(y_predict,y): #This is the code for the residual square error function that we will use to calculate accuracy of the fit\n",
    "    mse = mean_squared_error(y_predict,y)\n",
    "    return math.sqrt(mse*(200/198))\n"
   ]
  },
  {
   "cell_type": "markdown",
   "metadata": {},
   "source": [
    "## Using TV as predictor"
   ]
  },
  {
   "cell_type": "code",
   "execution_count": 36,
   "metadata": {},
   "outputs": [
    {
     "name": "stdout",
     "output_type": "stream",
     "text": [
      "Residual Standard Error is 3.2586563686504624\n",
      "The R-squared score is: 0.611875050850071\n"
     ]
    },
    {
     "data": {
      "image/png": "[encoded data removed]",
      "text/plain": [
       "<matplotlib.figure.Figure at 0x2119ff370f0>"
      ]
     },
     "metadata": {},
     "output_type": "display_data"
    },
    {
     "name": "stdout",
     "output_type": "stream",
     "text": [
      "the co-efficient of regression is :[0.04753664]\n",
      "The intercept is: 7.032593549127693\n"
     ]
    }
   ],
   "source": [
    "%matplotlib inline\n",
    "\n",
    "df1 = df.iloc[:,1]\n",
    "\n",
    "y = Sales\n",
    "\n",
    "x = df1.values.reshape(-1,1)\n",
    "#x = df\n",
    "\n",
    "\n",
    "lm = linear_model.LinearRegression()\n",
    "model = lm.fit(x,y)\n",
    "\n",
    "y_predict = model.predict(x)\n",
    "\n",
    "print(\"Residual Standard Error is \" + str(RSE(y_predict,y)))\n",
    "print(\"The R-squared score is: \" + str(model.score(x,y)))\n",
    "\n",
    "plt.scatter(x,y)\n",
    "\n",
    "X_plot = np.linspace(0,300,10)\n",
    "plt.plot(X_plot, X_plot*model.coef_[0] + model.intercept_)\n",
    "plt.show()\n",
    "\n",
    "print(\"the co-efficient of regression is :\" + str(model.coef_))\n",
    "print(\"The intercept is: \" + str(model.intercept_)) "
   ]
  },
  {
   "cell_type": "markdown",
   "metadata": {},
   "source": [
    "## Using Radio as predictor"
   ]
  },
  {
   "cell_type": "code",
   "execution_count": 38,
   "metadata": {},
   "outputs": [
    {
     "name": "stdout",
     "output_type": "stream",
     "text": [
      "Residual Standard Error is 4.27494435490106\n",
      "The R-squared score is: 0.33203245544529525\n"
     ]
    },
    {
     "data": {
      "image/png": "[encoded data removed]",
      "text/plain": [
       "<matplotlib.figure.Figure at 0x211a01969e8>"
      ]
     },
     "metadata": {},
     "output_type": "display_data"
    },
    {
     "name": "stdout",
     "output_type": "stream",
     "text": [
      "the co-efficient of regression is :[0.20249578]\n",
      "The intercept is: 9.311638095158283\n"
     ]
    }
   ],
   "source": [
    "df2 = df.iloc[:,2]\n",
    "\n",
    "y = Sales\n",
    "\n",
    "x = df2.values.reshape(-1,1)\n",
    "#x = df\n",
    "\n",
    "\n",
    "lm = linear_model.LinearRegression()\n",
    "model = lm.fit(x,y)\n",
    "\n",
    "y_predict = model.predict(x)\n",
    "\n",
    "print(\"Residual Standard Error is \" + str(RSE(y_predict,y)))\n",
    "print(\"The R-squared score is: \" + str(model.score(x,y)))\n",
    "\n",
    "plt.scatter(x,y)\n",
    "\n",
    "X_plot = np.linspace(0,50,10)\n",
    "plt.plot(X_plot, X_plot*model.coef_[0] + model.intercept_)\n",
    "plt.show()\n",
    "\n",
    "print(\"the co-efficient of regression is :\" + str(model.coef_))\n",
    "print(\"The intercept is: \" + str(model.intercept_)) "
   ]
  },
  {
   "cell_type": "markdown",
   "metadata": {},
   "source": [
    "## Using Newspaper as the predictor "
   ]
  },
  {
   "cell_type": "code",
   "execution_count": 40,
   "metadata": {},
   "outputs": [
    {
     "name": "stdout",
     "output_type": "stream",
     "text": [
      "Residual Standard Error is 5.092480366520193\n",
      "The R-squared score is: 0.05212044544430516\n"
     ]
    },
    {
     "data": {
      "image/png": "[encoded data removed]",
      "text/plain": [
       "<matplotlib.figure.Figure at 0x211a024fa90>"
      ]
     },
     "metadata": {},
     "output_type": "display_data"
    },
    {
     "name": "stdout",
     "output_type": "stream",
     "text": [
      "the co-efficient of regression is :[0.0546931]\n",
      "The intercept is: 12.35140706927816\n"
     ]
    }
   ],
   "source": [
    "df2 = df.iloc[:,3]\n",
    "\n",
    "y = Sales\n",
    "\n",
    "x = df2.values.reshape(-1,1)\n",
    "#x = df\n",
    "\n",
    "\n",
    "lm = linear_model.LinearRegression()\n",
    "model = lm.fit(x,y)\n",
    "\n",
    "y_predict = model.predict(x)\n",
    "\n",
    "print(\"Residual Standard Error is \" + str(RSE(y_predict,y)))\n",
    "print(\"The R-squared score is: \" + str(model.score(x,y)))\n",
    "\n",
    "plt.scatter(x,y)\n",
    "\n",
    "X_plot = np.linspace(0,120,10)\n",
    "plt.plot(X_plot, X_plot*model.coef_[0] + model.intercept_)\n",
    "plt.show()\n",
    "\n",
    "print(\"the co-efficient of regression is :\" + str(model.coef_))\n",
    "print(\"The intercept is: \" + str(model.intercept_)) "
   ]
  },
  {
   "cell_type": "markdown",
   "metadata": {},
   "source": [
    "# Conclusion:\n",
    "\n",
    "From the above three plots and values of the accuracy score we can conclude that Newspaper has the least impact on sales as it \n",
    "has the lowest R-squared score and highest RSE score.On the other hand the regression plot with TV as the variable gives the best plot as it has the highest R-squared score and lowest RSE score.\n"
   ]
  },
  {
   "cell_type": "markdown",
   "metadata": {},
   "source": [
    "# Multi-Linear Regression\n",
    "\n",
    "Next we will perform multilinear regression on the same dataset where we take all the variables(TV,Radio and Newspaper) into \n",
    "consideration while predicting the sales."
   ]
  },
  {
   "cell_type": "code",
   "execution_count": 43,
   "metadata": {},
   "outputs": [
    {
     "name": "stdout",
     "output_type": "stream",
     "text": [
      "Residual Standard Error is 1.6769760888385674\n",
      "The R-squared score is: 0.8972106381789521\n",
      "the co-efficient of regression is :[ 0.04576465  0.18853002 -0.00103749]\n",
      "The intercept is: 2.9388893694594067\n"
     ]
    }
   ],
   "source": [
    "y = Sales\n",
    "x = df.iloc[:,1:4]\n",
    "\n",
    "\n",
    "lm = linear_model.LinearRegression()\n",
    "model = lm.fit(x,y)\n",
    "\n",
    "y_predict = model.predict(x)\n",
    "\n",
    "print(\"Residual Standard Error is \" + str(RSE(y_predict,y)))\n",
    "print(\"The R-squared score is: \" + str(model.score(x,y)))\n",
    "\n",
    "\n",
    "print(\"the co-efficients of regression are :\" + str(model.coef_))\n",
    "print(\"The intercept is: \" + str(model.intercept_)) "
   ]
  },
  {
   "cell_type": "markdown",
   "metadata": {},
   "source": [
    "# Conclusion:\n",
    "\n",
    "The above numbers clearly indicate that the multilinear regression in the three variables provide a significantly more accurate representation of sales as compared to each variable individually."
   ]
  }
 ],
 "metadata": {
  "kernelspec": {
   "display_name": "Python 3",
   "language": "python",
   "name": "python3"
  },
  "language_info": {
   "codemirror_mode": {
    "name": "ipython",
    "version": 3
   },
   "file_extension": ".py",
   "mimetype": "text/x-python",
   "name": "python",
   "nbconvert_exporter": "python",
   "pygments_lexer": "ipython3",
   "version": "3.6.3"
  }
 },
 "nbformat": 4,
 "nbformat_minor": 2
}
