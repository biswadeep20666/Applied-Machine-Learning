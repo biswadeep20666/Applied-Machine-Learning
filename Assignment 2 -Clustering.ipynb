{
 "cells": [
  {
   "cell_type": "markdown",
   "metadata": {},
   "source": [
    "# The Wine dataset\n",
    "\n",
    "For this experiment we are using the wine dataset which is available is scikit-learn.Here there are 3 different types of wines and each wine data point is a 13-dimensional vector each encoding different properties of the sample."
   ]
  },
  {
   "cell_type": "code",
   "execution_count": 8,
   "metadata": {},
   "outputs": [
    {
     "data": {
      "text/plain": [
       "(178, 13)"
      ]
     },
     "execution_count": 8,
     "metadata": {},
     "output_type": "execute_result"
    }
   ],
   "source": [
    "from sklearn.datasets import load_wine\n",
    "wine_types = load_wine()\n",
    "wine_types.data.shape"
   ]
  },
  {
   "cell_type": "code",
   "execution_count": 2,
   "metadata": {},
   "outputs": [
    {
     "name": "stdout",
     "output_type": "stream",
     "text": [
      "(3, 13)\n"
     ]
    }
   ],
   "source": [
    "import pandas as pd\n",
    "import numpy as np\n",
    "from sklearn.metrics import silhouette_samples, silhouette_score\n",
    "\n",
    "\n",
    "from sklearn.cluster import KMeans\n",
    "kmeans = KMeans(n_clusters=3, random_state=42)\n",
    "clusters = kmeans.fit_predict(wine_types.data)\n",
    "print(kmeans.cluster_centers_.shape)\n",
    "\n",
    "import matplotlib.pyplot as plt\n",
    "import seaborn as sns; sns.set()  # for plot styling\n",
    "import numpy as np\n",
    "\n",
    " "
   ]
  },
  {
   "cell_type": "markdown",
   "metadata": {},
   "source": [
    "# Clustering the data\n",
    "\n",
    "Since there are three different types of wine in this dataset we cluster them into three clusters using k_means clustering.After performing the clustering it show an accuracy score of 0.70 and average silhoutte score of 0.56."
   ]
  },
  {
   "cell_type": "code",
   "execution_count": 3,
   "metadata": {},
   "outputs": [
    {
     "name": "stdout",
     "output_type": "stream",
     "text": [
      "Accuracy score is : 0.702247191011236\n",
      "For 3 clusters the average silhouette score is 0.571138\n"
     ]
    }
   ],
   "source": [
    "from scipy.stats import mode\n",
    "\n",
    "labels = np.zeros_like(clusters)\n",
    "for i in range(3):\n",
    "    mask = (clusters == i)\n",
    "#    print(mask)\n",
    "#    print(mode(wine_types.target[mask])[0])\n",
    "#    print(mode(wine_types.target[mask])[1])\n",
    "    labels[mask] = mode(wine_types.target[mask])[0]\n",
    "    \n",
    "from sklearn.metrics import accuracy_score\n",
    "print(\"Accuracy score is : \" + str(accuracy_score(wine_types.target, labels)))\n",
    "print('For %d clusters the average silhouette score is %f' % (3, silhouette_score(wine_types.data, kmeans.labels_)))"
   ]
  },
  {
   "cell_type": "markdown",
   "metadata": {},
   "source": [
    "## Constructing a confusion matrix\n",
    "\n",
    "In this step we construct a confusion matrix for the different elements of the clusters which gives us an idea about the true and predicted labels for the different data points."
   ]
  },
  {
   "cell_type": "code",
   "execution_count": 4,
   "metadata": {},
   "outputs": [
    {
     "data": {
      "image/png": "[encoded data removed]",
      "text/plain": [
       "<Figure size 432x288 with 1 Axes>"
      ]
     },
     "metadata": {},
     "output_type": "display_data"
    }
   ],
   "source": [
    "%matplotlib inline\n",
    "\n",
    "from sklearn.metrics import confusion_matrix\n",
    "import seaborn as sns\n",
    "\n",
    "mat = confusion_matrix(wine_types.target, labels)\n",
    "sns.heatmap(mat.T, square=True, annot=True, fmt='d', cbar=False,\n",
    "            xticklabels=wine_types.target_names,\n",
    "            yticklabels=wine_types.target_names)\n",
    "plt.xlabel('true label')\n",
    "plt.ylabel('predicted label');\n",
    "\n"
   ]
  },
  {
   "cell_type": "markdown",
   "metadata": {},
   "source": [
    "# Using PCA\n",
    "\n",
    "Next we use the PCA dimension reduction technique to reduce the dimension of each vector to 2 and then perform the k_means clustering and this results in an accuracy of 0.96! The average silhoutte score becomes 0.56.\n",
    "\n"
   ]
  },
  {
   "cell_type": "code",
   "execution_count": 5,
   "metadata": {},
   "outputs": [
    {
     "name": "stdout",
     "output_type": "stream",
     "text": [
      "The accuracy score is: 0.9662921348314607\n",
      "For 3 clusters the average silhouette score is 0.561051\n"
     ]
    }
   ],
   "source": [
    "import pandas as pd\n",
    "from sklearn.preprocessing import StandardScaler\n",
    "scaler = StandardScaler()\n",
    "\n",
    "wine_types_scaled = scaler.fit_transform(wine_types.data)\n",
    "\n",
    "from sklearn.decomposition import PCA\n",
    "\n",
    "\"\"\"\n",
    "    pca can also be initialized as pca = pca(0.95) : fraction of variance explained\n",
    "\"\"\"\n",
    "\n",
    "\n",
    "from sklearn.decomposition import PCA\n",
    "\n",
    "pca = PCA(n_components=2)\n",
    "\n",
    "principal_components = pca.fit_transform(wine_types_scaled)\n",
    "                    \n",
    "wine_types_proj = pd.DataFrame(data = principal_components, \n",
    "                           columns = ['pc_1', 'pc_2'])\n",
    "\n",
    "kmeans = KMeans(n_clusters=3, random_state=42)\n",
    "clusters = kmeans.fit_predict(wine_types_proj)\n",
    "\n",
    "# Permute the labels\n",
    "labels = np.zeros_like(clusters)\n",
    "for i in range(3):\n",
    "    mask = (clusters == i)\n",
    "    labels[mask] = mode(wine_types.target[mask])[0]\n",
    "\n",
    "# Compute the accuracy\n",
    "print(\"The accuracy score is: \" + str(accuracy_score(wine_types.target, labels)))\n",
    "print('For %d clusters the average silhouette score is %f' % (3, silhouette_score(wine_types_proj, kmeans.labels_)))"
   ]
  },
  {
   "cell_type": "markdown",
   "metadata": {},
   "source": [
    "# Using TSNE\n",
    "\n",
    "In this step we use TSNE with 2 components.After the whole process we get an accuracy of 0.71 and average silhoutte score 0.61."
   ]
  },
  {
   "cell_type": "code",
   "execution_count": 6,
   "metadata": {},
   "outputs": [
    {
     "name": "stdout",
     "output_type": "stream",
     "text": [
      "The acuracy score is: 0.7134831460674157\n",
      "For 3 clusters the average silhouette score is 0.618910\n"
     ]
    }
   ],
   "source": [
    "from sklearn.manifold import TSNE\n",
    "\n",
    "# Project the data: this step will take several seconds\n",
    "tsne = TSNE(n_components=2, init='random', random_state=0)\n",
    "wine_types_proj = tsne.fit_transform(wine_types.data)\n",
    "\n",
    "# Compute the clusters\n",
    "kmeans = KMeans(n_clusters=3, random_state=42)\n",
    "clusters = kmeans.fit_predict(wine_types_proj)\n",
    "\n",
    "# Permute the labels\n",
    "labels = np.zeros_like(clusters)\n",
    "for i in range(3):\n",
    "    mask = (clusters == i)\n",
    "    labels[mask] = mode(wine_types.target[mask])[0]\n",
    "\n",
    "# Compute the accuracy\n",
    "print(\"The acuracy score is: \" + str(accuracy_score(wine_types.target, labels)))\n",
    "print('For %d clusters the average silhouette score is %f' % (3, silhouette_score(wine_types_proj, kmeans.labels_)))\n",
    "\n"
   ]
  },
  {
   "cell_type": "markdown",
   "metadata": {},
   "source": [
    "# Visualizing the clusters\n",
    "\n",
    "After performing the dimension reductions we visualize the clusters in two dimensions which results in the following diagram."
   ]
  },
  {
   "cell_type": "code",
   "execution_count": 7,
   "metadata": {},
   "outputs": [
    {
     "name": "stdout",
     "output_type": "stream",
     "text": [
      "ready\n"
     ]
    },
    {
     "data": {
      "image/png": "[encoded data removed]",
      "text/plain": [
       "<Figure size 401.625x360 with 1 Axes>"
      ]
     },
     "metadata": {},
     "output_type": "display_data"
    }
   ],
   "source": [
    "import numpy as np # linear algebra\n",
    "import seaborn as sns\n",
    "import matplotlib\n",
    "import pandas as pd # data processing, CSV file I/O (e.g. pd.read_csv)\n",
    "from sklearn.decomposition import PCA, RandomizedPCA\n",
    "from sklearn.manifold import TSNE\n",
    "\n",
    "sns.set_style(\"darkgrid\", {\"axes.facecolor\": \".95\"})\n",
    "\n",
    "matplotlib.rcParams['figure.figsize'] = (10.0, 10.0)\n",
    "proj = pd.DataFrame(wine_types_proj)\n",
    "proj.columns = [\"comp_1\", \"comp_2\"]\n",
    "proj[\"labels\"] = labels\n",
    "sns.lmplot(\"comp_1\", \"comp_2\", hue = \"labels\", data = proj.sample(100) ,fit_reg=False)\n",
    "print(\"ready\")\n"
   ]
  },
  {
   "cell_type": "code",
   "execution_count": null,
   "metadata": {
    "collapsed": true
   },
   "outputs": [],
   "source": []
  },
  {
   "cell_type": "code",
   "execution_count": null,
   "metadata": {
    "collapsed": true
   },
   "outputs": [],
   "source": []
  }
 ],
 "metadata": {
  "kernelspec": {
   "display_name": "Python 3",
   "language": "python",
   "name": "python3"
  },
  "language_info": {
   "codemirror_mode": {
    "name": "ipython",
    "version": 3
   },
   "file_extension": ".py",
   "mimetype": "text/x-python",
   "name": "python",
   "nbconvert_exporter": "python",
   "pygments_lexer": "ipython3",
   "version": "3.6.3"
  }
 },
 "nbformat": 4,
 "nbformat_minor": 2
}
